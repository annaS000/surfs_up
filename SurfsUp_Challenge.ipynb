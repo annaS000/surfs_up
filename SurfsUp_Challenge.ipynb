{
 "cells": [
  {
   "cell_type": "code",
   "execution_count": 1,
   "metadata": {},
   "outputs": [],
   "source": [
    "# Dependencies\n",
    "import numpy as np\n",
    "import pandas as pd\n",
    "import sys\n",
    "# Python SQL toolkit and Object Relational Mapper\n",
    "import sqlalchemy\n",
    "from sqlalchemy.ext.automap import automap_base\n",
    "from sqlalchemy.orm import Session\n",
    "from sqlalchemy import create_engine, func, inspect, MetaData, Table\n",
    "#Matplotlib\n",
    "%matplotlib inline\n",
    "from matplotlib import style\n",
    "style.use('seaborn-pastel')#fivethirtyeight\n",
    "import matplotlib.pyplot as plt "
   ]
  },
  {
   "cell_type": "code",
   "execution_count": 2,
   "metadata": {},
   "outputs": [],
   "source": [
    "engine = create_engine(\"sqlite:///hawaii.sqlite\")\n",
    "\n",
    "# reflect an existing database into a new model\n",
    "Base = automap_base()\n",
    "# reflect the tables\n",
    "Base.prepare(engine, reflect=True)\n",
    "\n",
    "# Save references to each table\n",
    "Measurement = Base.classes.measurement\n",
    "Station = Base.classes.station"
   ]
  },
  {
   "cell_type": "code",
   "execution_count": 3,
   "metadata": {},
   "outputs": [],
   "source": [
    "# Create our session (link) from Python to the DB\n",
    "session = Session(engine)"
   ]
  },
  {
   "cell_type": "code",
   "execution_count": 4,
   "metadata": {},
   "outputs": [
    {
     "name": "stdout",
     "output_type": "stream",
     "text": [
      "('WAIKIKI 717.2, HI US', 'USC00519397')\n",
      "('KANEOHE 838.1, HI US', 'USC00513117')\n",
      "('KUALOA RANCH HEADQUARTERS 886.9, HI US', 'USC00514830')\n",
      "('PEARL CITY, HI US', 'USC00517948')\n",
      "('UPPER WAHIAWA 874.3, HI US', 'USC00518838')\n",
      "('WAIMANALO EXPERIMENTAL FARM, HI US', 'USC00519523')\n",
      "('WAIHEE 837.5, HI US', 'USC00519281')\n",
      "('HONOLULU OBSERVATORY 702.2, HI US', 'USC00511918')\n",
      "('MANOA LYON ARBO 785.2, HI US', 'USC00516128')\n"
     ]
    }
   ],
   "source": [
    "inspector = inspect(engine)\n",
    "columns = inspector.get_columns('Station')\n",
    "for i in session.query(Station.name,Station.station).all():\n",
    "    print(i)"
   ]
  },
  {
   "cell_type": "code",
   "execution_count": 5,
   "metadata": {},
   "outputs": [],
   "source": [
    "#function for temp summaries\n",
    "def tempSummary(n,month):\n",
    "    data = session.query(Measurement.tobs).\\\n",
    "    filter(func.strftime(\"%m\", Measurement.date) == n).all()\n",
    "    df = pd.DataFrame({month+'Temps':[i[0] for i in data]})\n",
    "    return df.describe()"
   ]
  },
  {
   "cell_type": "code",
   "execution_count": 6,
   "metadata": {},
   "outputs": [
    {
     "data": {
      "text/html": [
       "<div>\n",
       "<style scoped>\n",
       "    .dataframe tbody tr th:only-of-type {\n",
       "        vertical-align: middle;\n",
       "    }\n",
       "\n",
       "    .dataframe tbody tr th {\n",
       "        vertical-align: top;\n",
       "    }\n",
       "\n",
       "    .dataframe thead th {\n",
       "        text-align: right;\n",
       "    }\n",
       "</style>\n",
       "<table border=\"1\" class=\"dataframe\">\n",
       "  <thead>\n",
       "    <tr style=\"text-align: right;\">\n",
       "      <th></th>\n",
       "      <th>June Temps</th>\n",
       "    </tr>\n",
       "  </thead>\n",
       "  <tbody>\n",
       "    <tr>\n",
       "      <th>count</th>\n",
       "      <td>1700.000000</td>\n",
       "    </tr>\n",
       "    <tr>\n",
       "      <th>mean</th>\n",
       "      <td>74.944118</td>\n",
       "    </tr>\n",
       "    <tr>\n",
       "      <th>std</th>\n",
       "      <td>3.257417</td>\n",
       "    </tr>\n",
       "    <tr>\n",
       "      <th>min</th>\n",
       "      <td>64.000000</td>\n",
       "    </tr>\n",
       "    <tr>\n",
       "      <th>25%</th>\n",
       "      <td>73.000000</td>\n",
       "    </tr>\n",
       "    <tr>\n",
       "      <th>50%</th>\n",
       "      <td>75.000000</td>\n",
       "    </tr>\n",
       "    <tr>\n",
       "      <th>75%</th>\n",
       "      <td>77.000000</td>\n",
       "    </tr>\n",
       "    <tr>\n",
       "      <th>max</th>\n",
       "      <td>85.000000</td>\n",
       "    </tr>\n",
       "  </tbody>\n",
       "</table>\n",
       "</div>"
      ],
      "text/plain": [
       "        June Temps\n",
       "count  1700.000000\n",
       "mean     74.944118\n",
       "std       3.257417\n",
       "min      64.000000\n",
       "25%      73.000000\n",
       "50%      75.000000\n",
       "75%      77.000000\n",
       "max      85.000000"
      ]
     },
     "execution_count": 6,
     "metadata": {},
     "output_type": "execute_result"
    }
   ],
   "source": [
    "tempSummary('06','June ')"
   ]
  },
  {
   "cell_type": "code",
   "execution_count": 7,
   "metadata": {
    "scrolled": true
   },
   "outputs": [
    {
     "data": {
      "text/html": [
       "<div>\n",
       "<style scoped>\n",
       "    .dataframe tbody tr th:only-of-type {\n",
       "        vertical-align: middle;\n",
       "    }\n",
       "\n",
       "    .dataframe tbody tr th {\n",
       "        vertical-align: top;\n",
       "    }\n",
       "\n",
       "    .dataframe thead th {\n",
       "        text-align: right;\n",
       "    }\n",
       "</style>\n",
       "<table border=\"1\" class=\"dataframe\">\n",
       "  <thead>\n",
       "    <tr style=\"text-align: right;\">\n",
       "      <th></th>\n",
       "      <th>December Temps</th>\n",
       "    </tr>\n",
       "  </thead>\n",
       "  <tbody>\n",
       "    <tr>\n",
       "      <th>count</th>\n",
       "      <td>1517.000000</td>\n",
       "    </tr>\n",
       "    <tr>\n",
       "      <th>mean</th>\n",
       "      <td>71.041529</td>\n",
       "    </tr>\n",
       "    <tr>\n",
       "      <th>std</th>\n",
       "      <td>3.745920</td>\n",
       "    </tr>\n",
       "    <tr>\n",
       "      <th>min</th>\n",
       "      <td>56.000000</td>\n",
       "    </tr>\n",
       "    <tr>\n",
       "      <th>25%</th>\n",
       "      <td>69.000000</td>\n",
       "    </tr>\n",
       "    <tr>\n",
       "      <th>50%</th>\n",
       "      <td>71.000000</td>\n",
       "    </tr>\n",
       "    <tr>\n",
       "      <th>75%</th>\n",
       "      <td>74.000000</td>\n",
       "    </tr>\n",
       "    <tr>\n",
       "      <th>max</th>\n",
       "      <td>83.000000</td>\n",
       "    </tr>\n",
       "  </tbody>\n",
       "</table>\n",
       "</div>"
      ],
      "text/plain": [
       "       December Temps\n",
       "count     1517.000000\n",
       "mean        71.041529\n",
       "std          3.745920\n",
       "min         56.000000\n",
       "25%         69.000000\n",
       "50%         71.000000\n",
       "75%         74.000000\n",
       "max         83.000000"
      ]
     },
     "execution_count": 7,
     "metadata": {},
     "output_type": "execute_result"
    }
   ],
   "source": [
    "tempSummary('12','December ')"
   ]
  },
  {
   "cell_type": "code",
   "execution_count": 8,
   "metadata": {},
   "outputs": [],
   "source": [
    "#function for precipitation summaries\n",
    "def prcpSummary(n,month):\n",
    "    data = session.query(Measurement.prcp).\\\n",
    "    filter(func.strftime(\"%m\", Measurement.date) == n).all()\n",
    "    df = pd.DataFrame({month+'Precip':[i[0] for i in data]})\n",
    "    return df.describe()"
   ]
  },
  {
   "cell_type": "code",
   "execution_count": 9,
   "metadata": {},
   "outputs": [
    {
     "data": {
      "text/html": [
       "<div>\n",
       "<style scoped>\n",
       "    .dataframe tbody tr th:only-of-type {\n",
       "        vertical-align: middle;\n",
       "    }\n",
       "\n",
       "    .dataframe tbody tr th {\n",
       "        vertical-align: top;\n",
       "    }\n",
       "\n",
       "    .dataframe thead th {\n",
       "        text-align: right;\n",
       "    }\n",
       "</style>\n",
       "<table border=\"1\" class=\"dataframe\">\n",
       "  <thead>\n",
       "    <tr style=\"text-align: right;\">\n",
       "      <th></th>\n",
       "      <th>June Precip</th>\n",
       "    </tr>\n",
       "  </thead>\n",
       "  <tbody>\n",
       "    <tr>\n",
       "      <th>count</th>\n",
       "      <td>1574.000000</td>\n",
       "    </tr>\n",
       "    <tr>\n",
       "      <th>mean</th>\n",
       "      <td>0.136360</td>\n",
       "    </tr>\n",
       "    <tr>\n",
       "      <th>std</th>\n",
       "      <td>0.335731</td>\n",
       "    </tr>\n",
       "    <tr>\n",
       "      <th>min</th>\n",
       "      <td>0.000000</td>\n",
       "    </tr>\n",
       "    <tr>\n",
       "      <th>25%</th>\n",
       "      <td>0.000000</td>\n",
       "    </tr>\n",
       "    <tr>\n",
       "      <th>50%</th>\n",
       "      <td>0.020000</td>\n",
       "    </tr>\n",
       "    <tr>\n",
       "      <th>75%</th>\n",
       "      <td>0.120000</td>\n",
       "    </tr>\n",
       "    <tr>\n",
       "      <th>max</th>\n",
       "      <td>4.430000</td>\n",
       "    </tr>\n",
       "  </tbody>\n",
       "</table>\n",
       "</div>"
      ],
      "text/plain": [
       "       June Precip\n",
       "count  1574.000000\n",
       "mean      0.136360\n",
       "std       0.335731\n",
       "min       0.000000\n",
       "25%       0.000000\n",
       "50%       0.020000\n",
       "75%       0.120000\n",
       "max       4.430000"
      ]
     },
     "execution_count": 9,
     "metadata": {},
     "output_type": "execute_result"
    }
   ],
   "source": [
    "prcpSummary('06','June ')"
   ]
  },
  {
   "cell_type": "code",
   "execution_count": 10,
   "metadata": {},
   "outputs": [
    {
     "data": {
      "text/html": [
       "<div>\n",
       "<style scoped>\n",
       "    .dataframe tbody tr th:only-of-type {\n",
       "        vertical-align: middle;\n",
       "    }\n",
       "\n",
       "    .dataframe tbody tr th {\n",
       "        vertical-align: top;\n",
       "    }\n",
       "\n",
       "    .dataframe thead th {\n",
       "        text-align: right;\n",
       "    }\n",
       "</style>\n",
       "<table border=\"1\" class=\"dataframe\">\n",
       "  <thead>\n",
       "    <tr style=\"text-align: right;\">\n",
       "      <th></th>\n",
       "      <th>December Precip</th>\n",
       "    </tr>\n",
       "  </thead>\n",
       "  <tbody>\n",
       "    <tr>\n",
       "      <th>count</th>\n",
       "      <td>1405.000000</td>\n",
       "    </tr>\n",
       "    <tr>\n",
       "      <th>mean</th>\n",
       "      <td>0.216819</td>\n",
       "    </tr>\n",
       "    <tr>\n",
       "      <th>std</th>\n",
       "      <td>0.541399</td>\n",
       "    </tr>\n",
       "    <tr>\n",
       "      <th>min</th>\n",
       "      <td>0.000000</td>\n",
       "    </tr>\n",
       "    <tr>\n",
       "      <th>25%</th>\n",
       "      <td>0.000000</td>\n",
       "    </tr>\n",
       "    <tr>\n",
       "      <th>50%</th>\n",
       "      <td>0.030000</td>\n",
       "    </tr>\n",
       "    <tr>\n",
       "      <th>75%</th>\n",
       "      <td>0.150000</td>\n",
       "    </tr>\n",
       "    <tr>\n",
       "      <th>max</th>\n",
       "      <td>6.420000</td>\n",
       "    </tr>\n",
       "  </tbody>\n",
       "</table>\n",
       "</div>"
      ],
      "text/plain": [
       "       December Precip\n",
       "count      1405.000000\n",
       "mean          0.216819\n",
       "std           0.541399\n",
       "min           0.000000\n",
       "25%           0.000000\n",
       "50%           0.030000\n",
       "75%           0.150000\n",
       "max           6.420000"
      ]
     },
     "execution_count": 10,
     "metadata": {},
     "output_type": "execute_result"
    }
   ],
   "source": [
    "prcpSummary('12','December ')"
   ]
  },
  {
   "cell_type": "code",
   "execution_count": 6,
   "metadata": {},
   "outputs": [
    {
     "data": {
      "text/html": [
       "<div>\n",
       "<style scoped>\n",
       "    .dataframe tbody tr th:only-of-type {\n",
       "        vertical-align: middle;\n",
       "    }\n",
       "\n",
       "    .dataframe tbody tr th {\n",
       "        vertical-align: top;\n",
       "    }\n",
       "\n",
       "    .dataframe thead th {\n",
       "        text-align: right;\n",
       "    }\n",
       "</style>\n",
       "<table border=\"1\" class=\"dataframe\">\n",
       "  <thead>\n",
       "    <tr style=\"text-align: right;\">\n",
       "      <th></th>\n",
       "      <th>March Temps</th>\n",
       "    </tr>\n",
       "  </thead>\n",
       "  <tbody>\n",
       "    <tr>\n",
       "      <th>count</th>\n",
       "      <td>1693.000000</td>\n",
       "    </tr>\n",
       "    <tr>\n",
       "      <th>mean</th>\n",
       "      <td>70.059067</td>\n",
       "    </tr>\n",
       "    <tr>\n",
       "      <th>std</th>\n",
       "      <td>3.845271</td>\n",
       "    </tr>\n",
       "    <tr>\n",
       "      <th>min</th>\n",
       "      <td>56.000000</td>\n",
       "    </tr>\n",
       "    <tr>\n",
       "      <th>25%</th>\n",
       "      <td>68.000000</td>\n",
       "    </tr>\n",
       "    <tr>\n",
       "      <th>50%</th>\n",
       "      <td>70.000000</td>\n",
       "    </tr>\n",
       "    <tr>\n",
       "      <th>75%</th>\n",
       "      <td>73.000000</td>\n",
       "    </tr>\n",
       "    <tr>\n",
       "      <th>max</th>\n",
       "      <td>82.000000</td>\n",
       "    </tr>\n",
       "  </tbody>\n",
       "</table>\n",
       "</div>"
      ],
      "text/plain": [
       "       March Temps\n",
       "count  1693.000000\n",
       "mean     70.059067\n",
       "std       3.845271\n",
       "min      56.000000\n",
       "25%      68.000000\n",
       "50%      70.000000\n",
       "75%      73.000000\n",
       "max      82.000000"
      ]
     },
     "execution_count": 6,
     "metadata": {},
     "output_type": "execute_result"
    }
   ],
   "source": [
    "tempSummary('03','March ')"
   ]
  },
  {
   "cell_type": "code",
   "execution_count": 7,
   "metadata": {},
   "outputs": [
    {
     "data": {
      "text/html": [
       "<div>\n",
       "<style scoped>\n",
       "    .dataframe tbody tr th:only-of-type {\n",
       "        vertical-align: middle;\n",
       "    }\n",
       "\n",
       "    .dataframe tbody tr th {\n",
       "        vertical-align: top;\n",
       "    }\n",
       "\n",
       "    .dataframe thead th {\n",
       "        text-align: right;\n",
       "    }\n",
       "</style>\n",
       "<table border=\"1\" class=\"dataframe\">\n",
       "  <thead>\n",
       "    <tr style=\"text-align: right;\">\n",
       "      <th></th>\n",
       "      <th>September Temps</th>\n",
       "    </tr>\n",
       "  </thead>\n",
       "  <tbody>\n",
       "    <tr>\n",
       "      <th>count</th>\n",
       "      <td>1480.000000</td>\n",
       "    </tr>\n",
       "    <tr>\n",
       "      <th>mean</th>\n",
       "      <td>76.164865</td>\n",
       "    </tr>\n",
       "    <tr>\n",
       "      <th>std</th>\n",
       "      <td>3.535178</td>\n",
       "    </tr>\n",
       "    <tr>\n",
       "      <th>min</th>\n",
       "      <td>64.000000</td>\n",
       "    </tr>\n",
       "    <tr>\n",
       "      <th>25%</th>\n",
       "      <td>74.000000</td>\n",
       "    </tr>\n",
       "    <tr>\n",
       "      <th>50%</th>\n",
       "      <td>76.000000</td>\n",
       "    </tr>\n",
       "    <tr>\n",
       "      <th>75%</th>\n",
       "      <td>79.000000</td>\n",
       "    </tr>\n",
       "    <tr>\n",
       "      <th>max</th>\n",
       "      <td>87.000000</td>\n",
       "    </tr>\n",
       "  </tbody>\n",
       "</table>\n",
       "</div>"
      ],
      "text/plain": [
       "       September Temps\n",
       "count      1480.000000\n",
       "mean         76.164865\n",
       "std           3.535178\n",
       "min          64.000000\n",
       "25%          74.000000\n",
       "50%          76.000000\n",
       "75%          79.000000\n",
       "max          87.000000"
      ]
     },
     "execution_count": 7,
     "metadata": {},
     "output_type": "execute_result"
    }
   ],
   "source": [
    "tempSummary('09','September ')"
   ]
  },
  {
   "cell_type": "code",
   "execution_count": 8,
   "metadata": {},
   "outputs": [],
   "source": [
    "#high low and avg for june and december temps by name\n",
    "juneStats = session.query(Measurement.station,func.min(Measurement.tobs), \n",
    "               func.max(Measurement.tobs), func.avg(Measurement.tobs)).\\\n",
    "               group_by(Measurement.station).\\\n",
    "               filter(func.strftime(\"%m\", Measurement.date) == '06').all()\n",
    "places = session.query(Station.name)\n",
    "decStats = session.query(Measurement.station,func.min(Measurement.tobs), \n",
    "               func.max(Measurement.tobs), func.avg(Measurement.tobs)).\\\n",
    "               group_by(Measurement.station).\\\n",
    "               filter(func.strftime(\"%m\", Measurement.date) == '12').all()\n",
    "\n",
    "#dataframes for june and december temps by station\n",
    "junedf = pd.DataFrame(juneStats, columns=['station', 'min temp', 'max temp', 'avg temp'])\n",
    "junedf.set_index('station', inplace=True)\n",
    "\n",
    "decdf = pd.DataFrame(decStats, columns=['station', 'min temp', 'max temp', 'avg temp'])\n",
    "decdf.set_index('station', inplace=True)"
   ]
  },
  {
   "cell_type": "code",
   "execution_count": 9,
   "metadata": {},
   "outputs": [
    {
     "data": {
      "text/plain": [
       "['WAIKIKI',\n",
       " 'KANEOHE',\n",
       " 'KUALOA',\n",
       " 'PEARL CITY',\n",
       " 'WAHIAWA',\n",
       " 'WAIMANALO',\n",
       " 'WAIHEE',\n",
       " 'HONOLULU',\n",
       " 'MANOA']"
      ]
     },
     "execution_count": 9,
     "metadata": {},
     "output_type": "execute_result"
    }
   ],
   "source": [
    "names = [i[0].split() for i in places]\n",
    "inOahu = [i[0] for i in names]\n",
    "inOahu[3]='PEARL CITY'\n",
    "inOahu[4]='WAHIAWA'\n",
    "inOahu"
   ]
  },
  {
   "cell_type": "code",
   "execution_count": 10,
   "metadata": {},
   "outputs": [
    {
     "data": {
      "text/html": [
       "<div>\n",
       "<style scoped>\n",
       "    .dataframe tbody tr th:only-of-type {\n",
       "        vertical-align: middle;\n",
       "    }\n",
       "\n",
       "    .dataframe tbody tr th {\n",
       "        vertical-align: top;\n",
       "    }\n",
       "\n",
       "    .dataframe thead th {\n",
       "        text-align: right;\n",
       "    }\n",
       "</style>\n",
       "<table border=\"1\" class=\"dataframe\">\n",
       "  <thead>\n",
       "    <tr style=\"text-align: right;\">\n",
       "      <th></th>\n",
       "      <th>min temp</th>\n",
       "      <th>max temp</th>\n",
       "      <th>avg temp</th>\n",
       "    </tr>\n",
       "    <tr>\n",
       "      <th>station</th>\n",
       "      <th></th>\n",
       "      <th></th>\n",
       "      <th></th>\n",
       "    </tr>\n",
       "  </thead>\n",
       "  <tbody>\n",
       "    <tr>\n",
       "      <th>USC00511918</th>\n",
       "      <td>66.0</td>\n",
       "      <td>85.0</td>\n",
       "      <td>74.139394</td>\n",
       "    </tr>\n",
       "    <tr>\n",
       "      <th>USC00513117</th>\n",
       "      <td>68.0</td>\n",
       "      <td>83.0</td>\n",
       "      <td>74.050847</td>\n",
       "    </tr>\n",
       "    <tr>\n",
       "      <th>USC00514830</th>\n",
       "      <td>67.0</td>\n",
       "      <td>81.0</td>\n",
       "      <td>76.005376</td>\n",
       "    </tr>\n",
       "    <tr>\n",
       "      <th>USC00516128</th>\n",
       "      <td>66.0</td>\n",
       "      <td>79.0</td>\n",
       "      <td>71.937220</td>\n",
       "    </tr>\n",
       "    <tr>\n",
       "      <th>USC00517948</th>\n",
       "      <td>64.0</td>\n",
       "      <td>82.0</td>\n",
       "      <td>76.655405</td>\n",
       "    </tr>\n",
       "    <tr>\n",
       "      <th>USC00518838</th>\n",
       "      <td>67.0</td>\n",
       "      <td>78.0</td>\n",
       "      <td>73.394737</td>\n",
       "    </tr>\n",
       "    <tr>\n",
       "      <th>USC00519281</th>\n",
       "      <td>65.0</td>\n",
       "      <td>82.0</td>\n",
       "      <td>73.271186</td>\n",
       "    </tr>\n",
       "    <tr>\n",
       "      <th>USC00519397</th>\n",
       "      <td>70.0</td>\n",
       "      <td>84.0</td>\n",
       "      <td>77.559322</td>\n",
       "    </tr>\n",
       "    <tr>\n",
       "      <th>USC00519523</th>\n",
       "      <td>71.0</td>\n",
       "      <td>82.0</td>\n",
       "      <td>76.668103</td>\n",
       "    </tr>\n",
       "  </tbody>\n",
       "</table>\n",
       "</div>"
      ],
      "text/plain": [
       "             min temp  max temp   avg temp\n",
       "station                                   \n",
       "USC00511918      66.0      85.0  74.139394\n",
       "USC00513117      68.0      83.0  74.050847\n",
       "USC00514830      67.0      81.0  76.005376\n",
       "USC00516128      66.0      79.0  71.937220\n",
       "USC00517948      64.0      82.0  76.655405\n",
       "USC00518838      67.0      78.0  73.394737\n",
       "USC00519281      65.0      82.0  73.271186\n",
       "USC00519397      70.0      84.0  77.559322\n",
       "USC00519523      71.0      82.0  76.668103"
      ]
     },
     "execution_count": 10,
     "metadata": {},
     "output_type": "execute_result"
    }
   ],
   "source": [
    "junedf"
   ]
  },
  {
   "cell_type": "code",
   "execution_count": 11,
   "metadata": {},
   "outputs": [
    {
     "data": {
      "text/html": [
       "<div>\n",
       "<style scoped>\n",
       "    .dataframe tbody tr th:only-of-type {\n",
       "        vertical-align: middle;\n",
       "    }\n",
       "\n",
       "    .dataframe tbody tr th {\n",
       "        vertical-align: top;\n",
       "    }\n",
       "\n",
       "    .dataframe thead th {\n",
       "        text-align: right;\n",
       "    }\n",
       "</style>\n",
       "<table border=\"1\" class=\"dataframe\">\n",
       "  <thead>\n",
       "    <tr style=\"text-align: right;\">\n",
       "      <th></th>\n",
       "      <th>min temp</th>\n",
       "      <th>max temp</th>\n",
       "      <th>avg temp</th>\n",
       "    </tr>\n",
       "    <tr>\n",
       "      <th>station</th>\n",
       "      <th></th>\n",
       "      <th></th>\n",
       "      <th></th>\n",
       "    </tr>\n",
       "  </thead>\n",
       "  <tbody>\n",
       "    <tr>\n",
       "      <th>USC00511918</th>\n",
       "      <td>57.0</td>\n",
       "      <td>81.0</td>\n",
       "      <td>69.684211</td>\n",
       "    </tr>\n",
       "    <tr>\n",
       "      <th>USC00513117</th>\n",
       "      <td>63.0</td>\n",
       "      <td>80.0</td>\n",
       "      <td>71.069444</td>\n",
       "    </tr>\n",
       "    <tr>\n",
       "      <th>USC00514830</th>\n",
       "      <td>62.0</td>\n",
       "      <td>79.0</td>\n",
       "      <td>73.224719</td>\n",
       "    </tr>\n",
       "    <tr>\n",
       "      <th>USC00516128</th>\n",
       "      <td>60.0</td>\n",
       "      <td>83.0</td>\n",
       "      <td>69.291262</td>\n",
       "    </tr>\n",
       "    <tr>\n",
       "      <th>USC00517948</th>\n",
       "      <td>64.0</td>\n",
       "      <td>82.0</td>\n",
       "      <td>71.834862</td>\n",
       "    </tr>\n",
       "    <tr>\n",
       "      <th>USC00518838</th>\n",
       "      <td>63.0</td>\n",
       "      <td>78.0</td>\n",
       "      <td>72.421053</td>\n",
       "    </tr>\n",
       "    <tr>\n",
       "      <th>USC00519281</th>\n",
       "      <td>58.0</td>\n",
       "      <td>79.0</td>\n",
       "      <td>69.903226</td>\n",
       "    </tr>\n",
       "    <tr>\n",
       "      <th>USC00519397</th>\n",
       "      <td>56.0</td>\n",
       "      <td>77.0</td>\n",
       "      <td>71.109524</td>\n",
       "    </tr>\n",
       "    <tr>\n",
       "      <th>USC00519523</th>\n",
       "      <td>56.0</td>\n",
       "      <td>79.0</td>\n",
       "      <td>72.433333</td>\n",
       "    </tr>\n",
       "  </tbody>\n",
       "</table>\n",
       "</div>"
      ],
      "text/plain": [
       "             min temp  max temp   avg temp\n",
       "station                                   \n",
       "USC00511918      57.0      81.0  69.684211\n",
       "USC00513117      63.0      80.0  71.069444\n",
       "USC00514830      62.0      79.0  73.224719\n",
       "USC00516128      60.0      83.0  69.291262\n",
       "USC00517948      64.0      82.0  71.834862\n",
       "USC00518838      63.0      78.0  72.421053\n",
       "USC00519281      58.0      79.0  69.903226\n",
       "USC00519397      56.0      77.0  71.109524\n",
       "USC00519523      56.0      79.0  72.433333"
      ]
     },
     "execution_count": 11,
     "metadata": {},
     "output_type": "execute_result"
    }
   ],
   "source": [
    "decdf"
   ]
  },
  {
   "cell_type": "code",
   "execution_count": 12,
   "metadata": {
    "scrolled": true
   },
   "outputs": [
    {
     "data": {
      "image/png": "[encoded data removed]",
      "text/plain": [
       "<Figure size 432x288 with 1 Axes>"
      ]
     },
     "metadata": {
      "needs_background": "light"
     },
     "output_type": "display_data"
    }
   ],
   "source": [
    "x = range(len(juneStats))\n",
    "junedf.plot.bar(title='June Temps by Station')\n",
    "plt.grid()\n",
    "plt.xlabel('Station', fontsize='10')\n",
    "plt.ylabel('Degrees (°F)', fontsize='10')\n",
    "plt.xticks(x, inOahu, fontsize='10')\n",
    "plt.ylim(60,90)\n",
    "plt.yticks(fontsize='10')\n",
    "plt.legend(['min temp', 'max temp', 'avg temp'],\n",
    "           bbox_to_anchor=(1.4, 0.6))\n",
    "plt.tight_layout()\n",
    "plt.savefig('Jun Temps Station.png',facecolor='w', transparent=False, bbox_inches='tight')\n",
    "plt.show()"
   ]
  },
  {
   "cell_type": "code",
   "execution_count": 13,
   "metadata": {},
   "outputs": [
    {
     "data": {
      "image/png": "[encoded data removed]",
      "text/plain": [
       "<Figure size 432x288 with 1 Axes>"
      ]
     },
     "metadata": {
      "needs_background": "light"
     },
     "output_type": "display_data"
    }
   ],
   "source": [
    "x = range(len(decStats))\n",
    "decdf.plot.bar(title='December Temps by Station')\n",
    "plt.grid()\n",
    "plt.xlabel('Station', fontsize='10')\n",
    "plt.ylabel('Degrees (°F)', fontsize='10')\n",
    "plt.xticks(x, inOahu, fontsize='10')\n",
    "plt.ylim(50,85)\n",
    "plt.yticks(fontsize='10')\n",
    "plt.legend(['min temp', 'max temp', 'avg temp'],\n",
    "           bbox_to_anchor=(1.4, 0.6))\n",
    "plt.tight_layout()\n",
    "plt.savefig('Dec Temps Station.png',facecolor='w', transparent=False, bbox_inches='tight')\n",
    "plt.show()"
   ]
  },
  {
   "cell_type": "code",
   "execution_count": 14,
   "metadata": {},
   "outputs": [],
   "source": [
    "#high low and avg for june and december precipitation by station\n",
    "juneStats2 = session.query(Measurement.station,func.min(Measurement.prcp), func.max(Measurement.prcp), func.avg(Measurement.prcp)).\\\n",
    "group_by(Measurement.station).filter(func.strftime(\"%m\", Measurement.date) == '06').all()\n",
    "\n",
    "decStats2 = session.query(Measurement.station,func.min(Measurement.prcp), func.max(Measurement.prcp), func.avg(Measurement.prcp)).\\\n",
    "group_by(Measurement.station).filter(func.strftime(\"%m\", Measurement.date) == '12').all()\n",
    "\n",
    "#dataframes for june and december temps by station\n",
    "junedf2 = pd.DataFrame(juneStats2, columns=['station', 'min', 'max', 'avg'])\n",
    "junedf2.set_index('station', inplace=True)\n",
    "\n",
    "decdf2 = pd.DataFrame(decStats2, columns=['station', 'min', 'max', 'avg'])\n",
    "decdf2.set_index('station', inplace=True)"
   ]
  },
  {
   "cell_type": "code",
   "execution_count": 15,
   "metadata": {},
   "outputs": [
    {
     "data": {
      "image/png": "[encoded data removed]",
      "text/plain": [
       "<Figure size 432x288 with 1 Axes>"
      ]
     },
     "metadata": {
      "needs_background": "light"
     },
     "output_type": "display_data"
    }
   ],
   "source": [
    "x = range(len(juneStats2))\n",
    "junedf2.plot.bar(title='June Precipitation by Station')\n",
    "plt.xlabel('Station', fontsize='10')\n",
    "plt.ylabel('Precip Score', fontsize='10')\n",
    "plt.xticks(x, inOahu, fontsize='10')\n",
    "plt.ylim(0,5)\n",
    "plt.yticks(fontsize='10')\n",
    "plt.legend(['min', 'max', 'avg'],\n",
    "           bbox_to_anchor=(1.25, 0.6))\n",
    "plt.grid()\n",
    "plt.tight_layout()\n",
    "plt.savefig('Jun Precip Station.png',facecolor='w', transparent=False, bbox_inches='tight')\n",
    "plt.show()"
   ]
  },
  {
   "cell_type": "code",
   "execution_count": 16,
   "metadata": {
    "scrolled": true
   },
   "outputs": [
    {
     "data": {
      "image/png": "[encoded data removed]",
      "text/plain": [
       "<Figure size 432x288 with 1 Axes>"
      ]
     },
     "metadata": {
      "needs_background": "light"
     },
     "output_type": "display_data"
    }
   ],
   "source": [
    "x = range(len(decStats2))\n",
    "decdf2.plot.bar(title='December Precipitation by Station')\n",
    "plt.grid()\n",
    "plt.xlabel('Station', fontsize='10')\n",
    "plt.ylabel('Precip Score', fontsize='10')\n",
    "plt.xticks(x, inOahu, fontsize='10')\n",
    "plt.ylim(0,7)\n",
    "plt.yticks(fontsize='10')\n",
    "plt.legend(['min', 'max', 'avg'],\n",
    "           bbox_to_anchor=(1.25, 0.6))\n",
    "plt.tight_layout()\n",
    "plt.savefig('Dec Precip Station.png',facecolor='w', transparent=False, bbox_inches='tight')\n",
    "plt.show()"
   ]
  },
  {
   "cell_type": "code",
   "execution_count": 17,
   "metadata": {},
   "outputs": [
    {
     "name": "stderr",
     "output_type": "stream",
     "text": [
      "/opt/anaconda3/envs/PythonData/lib/python3.7/site-packages/ipykernel_launcher.py:10: UserWarning: FixedFormatter should only be used together with FixedLocator\n",
      "  # Remove the CWD from sys.path while we load stuff.\n"
     ]
    },
    {
     "data": {
      "image/png": "[encoded data removed]",
      "text/plain": [
       "<Figure size 432x288 with 1 Axes>"
      ]
     },
     "metadata": {
      "needs_background": "light"
     },
     "output_type": "display_data"
    }
   ],
   "source": [
    "#line graphs\n",
    "fig, ax = plt.subplots()\n",
    "x = range(len(juneStats))\n",
    "ax.plot(junedf, marker='X',linestyle='None', markersize = 9.0)\n",
    "for i in (ax.get_xticklabels() + ax.get_yticklabels()):\n",
    "    i.set_fontname('Arial')\n",
    "    i.set_fontsize(13)\n",
    "ax.set_title('June Temps by Station')\n",
    "ax.tick_params(axis='x', labelrotation=90)\n",
    "ax.set_xticklabels(inOahu)\n",
    "plt.grid()\n",
    "plt.tight_layout()\n",
    "plt.legend(['min temp', 'max temp', 'avg temp'],\n",
    "           bbox_to_anchor=(1.2, 0.6))\n",
    "#fig.savefig('Jun Temps by Station.png',bbox_inches='tight')\n",
    "plt.show()"
   ]
  },
  {
   "cell_type": "code",
   "execution_count": 18,
   "metadata": {},
   "outputs": [
    {
     "name": "stderr",
     "output_type": "stream",
     "text": [
      "/opt/anaconda3/envs/PythonData/lib/python3.7/site-packages/ipykernel_launcher.py:9: UserWarning: FixedFormatter should only be used together with FixedLocator\n",
      "  if __name__ == '__main__':\n"
     ]
    },
    {
     "data": {
      "image/png": "[encoded data removed]",
      "text/plain": [
       "<Figure size 432x288 with 1 Axes>"
      ]
     },
     "metadata": {
      "needs_background": "light"
     },
     "output_type": "display_data"
    }
   ],
   "source": [
    "fig, ax = plt.subplots()\n",
    "x = range(len(decStats))\n",
    "ax.plot(decdf, marker='o',linestyle='None', markersize = 9.0)\n",
    "for i in (ax.get_xticklabels() + ax.get_yticklabels()):\n",
    "    i.set_fontname('Arial')\n",
    "    i.set_fontsize(13)\n",
    "ax.set_title('December Temps by Station')\n",
    "ax.tick_params(axis='x', labelrotation=90 )\n",
    "ax.set_xticklabels(inOahu)\n",
    "plt.grid()\n",
    "plt.tight_layout()\n",
    "plt.legend(['min temp', 'max temp', 'avg temp'],\n",
    "           bbox_to_anchor=(1.2, 0.6))\n",
    "fig.savefig('Dec Temps by Station.png',bbox_inches='tight')\n",
    "plt.show()"
   ]
  },
  {
   "cell_type": "code",
   "execution_count": 19,
   "metadata": {},
   "outputs": [
    {
     "data": {
      "text/html": [
       "<div>\n",
       "<style scoped>\n",
       "    .dataframe tbody tr th:only-of-type {\n",
       "        vertical-align: middle;\n",
       "    }\n",
       "\n",
       "    .dataframe tbody tr th {\n",
       "        vertical-align: top;\n",
       "    }\n",
       "\n",
       "    .dataframe thead th {\n",
       "        text-align: right;\n",
       "    }\n",
       "</style>\n",
       "<table border=\"1\" class=\"dataframe\">\n",
       "  <thead>\n",
       "    <tr style=\"text-align: right;\">\n",
       "      <th></th>\n",
       "      <th>min</th>\n",
       "      <th>max</th>\n",
       "      <th>avg</th>\n",
       "    </tr>\n",
       "    <tr>\n",
       "      <th>station</th>\n",
       "      <th></th>\n",
       "      <th></th>\n",
       "      <th></th>\n",
       "    </tr>\n",
       "  </thead>\n",
       "  <tbody>\n",
       "    <tr>\n",
       "      <th>USC00511918</th>\n",
       "      <td>0.0</td>\n",
       "      <td>0.58</td>\n",
       "      <td>0.015157</td>\n",
       "    </tr>\n",
       "    <tr>\n",
       "      <th>USC00513117</th>\n",
       "      <td>0.0</td>\n",
       "      <td>4.43</td>\n",
       "      <td>0.118248</td>\n",
       "    </tr>\n",
       "    <tr>\n",
       "      <th>USC00514830</th>\n",
       "      <td>0.0</td>\n",
       "      <td>3.60</td>\n",
       "      <td>0.114192</td>\n",
       "    </tr>\n",
       "    <tr>\n",
       "      <th>USC00516128</th>\n",
       "      <td>0.0</td>\n",
       "      <td>2.80</td>\n",
       "      <td>0.495748</td>\n",
       "    </tr>\n",
       "    <tr>\n",
       "      <th>USC00517948</th>\n",
       "      <td>0.0</td>\n",
       "      <td>1.71</td>\n",
       "      <td>0.057975</td>\n",
       "    </tr>\n",
       "    <tr>\n",
       "      <th>USC00518838</th>\n",
       "      <td>0.0</td>\n",
       "      <td>0.82</td>\n",
       "      <td>0.094615</td>\n",
       "    </tr>\n",
       "    <tr>\n",
       "      <th>USC00519281</th>\n",
       "      <td>0.0</td>\n",
       "      <td>1.39</td>\n",
       "      <td>0.151525</td>\n",
       "    </tr>\n",
       "    <tr>\n",
       "      <th>USC00519397</th>\n",
       "      <td>0.0</td>\n",
       "      <td>0.89</td>\n",
       "      <td>0.022661</td>\n",
       "    </tr>\n",
       "    <tr>\n",
       "      <th>USC00519523</th>\n",
       "      <td>0.0</td>\n",
       "      <td>0.51</td>\n",
       "      <td>0.050044</td>\n",
       "    </tr>\n",
       "  </tbody>\n",
       "</table>\n",
       "</div>"
      ],
      "text/plain": [
       "             min   max       avg\n",
       "station                         \n",
       "USC00511918  0.0  0.58  0.015157\n",
       "USC00513117  0.0  4.43  0.118248\n",
       "USC00514830  0.0  3.60  0.114192\n",
       "USC00516128  0.0  2.80  0.495748\n",
       "USC00517948  0.0  1.71  0.057975\n",
       "USC00518838  0.0  0.82  0.094615\n",
       "USC00519281  0.0  1.39  0.151525\n",
       "USC00519397  0.0  0.89  0.022661\n",
       "USC00519523  0.0  0.51  0.050044"
      ]
     },
     "execution_count": 19,
     "metadata": {},
     "output_type": "execute_result"
    }
   ],
   "source": [
    "junedf2"
   ]
  },
  {
   "cell_type": "code",
   "execution_count": 20,
   "metadata": {},
   "outputs": [
    {
     "data": {
      "text/html": [
       "<div>\n",
       "<style scoped>\n",
       "    .dataframe tbody tr th:only-of-type {\n",
       "        vertical-align: middle;\n",
       "    }\n",
       "\n",
       "    .dataframe tbody tr th {\n",
       "        vertical-align: top;\n",
       "    }\n",
       "\n",
       "    .dataframe thead th {\n",
       "        text-align: right;\n",
       "    }\n",
       "</style>\n",
       "<table border=\"1\" class=\"dataframe\">\n",
       "  <thead>\n",
       "    <tr style=\"text-align: right;\">\n",
       "      <th></th>\n",
       "      <th>min</th>\n",
       "      <th>max</th>\n",
       "      <th>avg</th>\n",
       "    </tr>\n",
       "    <tr>\n",
       "      <th>station</th>\n",
       "      <th></th>\n",
       "      <th></th>\n",
       "      <th></th>\n",
       "    </tr>\n",
       "  </thead>\n",
       "  <tbody>\n",
       "    <tr>\n",
       "      <th>USC00511918</th>\n",
       "      <td>0.00</td>\n",
       "      <td>4.00</td>\n",
       "      <td>0.138146</td>\n",
       "    </tr>\n",
       "    <tr>\n",
       "      <th>USC00513117</th>\n",
       "      <td>0.00</td>\n",
       "      <td>4.94</td>\n",
       "      <td>0.203241</td>\n",
       "    </tr>\n",
       "    <tr>\n",
       "      <th>USC00514830</th>\n",
       "      <td>0.00</td>\n",
       "      <td>2.55</td>\n",
       "      <td>0.154966</td>\n",
       "    </tr>\n",
       "    <tr>\n",
       "      <th>USC00516128</th>\n",
       "      <td>0.00</td>\n",
       "      <td>6.42</td>\n",
       "      <td>0.507005</td>\n",
       "    </tr>\n",
       "    <tr>\n",
       "      <th>USC00517948</th>\n",
       "      <td>0.00</td>\n",
       "      <td>2.80</td>\n",
       "      <td>0.152727</td>\n",
       "    </tr>\n",
       "    <tr>\n",
       "      <th>USC00518838</th>\n",
       "      <td>0.02</td>\n",
       "      <td>2.50</td>\n",
       "      <td>0.638182</td>\n",
       "    </tr>\n",
       "    <tr>\n",
       "      <th>USC00519281</th>\n",
       "      <td>0.00</td>\n",
       "      <td>3.14</td>\n",
       "      <td>0.244931</td>\n",
       "    </tr>\n",
       "    <tr>\n",
       "      <th>USC00519397</th>\n",
       "      <td>0.00</td>\n",
       "      <td>2.01</td>\n",
       "      <td>0.075314</td>\n",
       "    </tr>\n",
       "    <tr>\n",
       "      <th>USC00519523</th>\n",
       "      <td>0.00</td>\n",
       "      <td>4.95</td>\n",
       "      <td>0.162010</td>\n",
       "    </tr>\n",
       "  </tbody>\n",
       "</table>\n",
       "</div>"
      ],
      "text/plain": [
       "              min   max       avg\n",
       "station                          \n",
       "USC00511918  0.00  4.00  0.138146\n",
       "USC00513117  0.00  4.94  0.203241\n",
       "USC00514830  0.00  2.55  0.154966\n",
       "USC00516128  0.00  6.42  0.507005\n",
       "USC00517948  0.00  2.80  0.152727\n",
       "USC00518838  0.02  2.50  0.638182\n",
       "USC00519281  0.00  3.14  0.244931\n",
       "USC00519397  0.00  2.01  0.075314\n",
       "USC00519523  0.00  4.95  0.162010"
      ]
     },
     "execution_count": 20,
     "metadata": {},
     "output_type": "execute_result"
    }
   ],
   "source": [
    "decdf2"
   ]
  },
  {
   "cell_type": "code",
   "execution_count": 21,
   "metadata": {},
   "outputs": [
    {
     "name": "stderr",
     "output_type": "stream",
     "text": [
      "/opt/anaconda3/envs/PythonData/lib/python3.7/site-packages/ipykernel_launcher.py:10: UserWarning: FixedFormatter should only be used together with FixedLocator\n",
      "  # Remove the CWD from sys.path while we load stuff.\n"
     ]
    },
    {
     "data": {
      "image/png": "[encoded data removed]",
      "text/plain": [
       "<Figure size 432x288 with 1 Axes>"
      ]
     },
     "metadata": {
      "needs_background": "light"
     },
     "output_type": "display_data"
    }
   ],
   "source": [
    "#line graphs\n",
    "fig, ax = plt.subplots()\n",
    "x = range(len(juneStats2))\n",
    "ax.plot(junedf2,marker='X',linestyle='None', markersize = 10.0)\n",
    "for i in (ax.get_xticklabels() + ax.get_yticklabels()):\n",
    "    i.set_fontname('Arial')\n",
    "    i.set_fontsize(13)\n",
    "ax.set_title('June Precipitation by Station')\n",
    "ax.tick_params(axis='x', labelrotation=90 )\n",
    "ax.set_xticklabels(inOahu)\n",
    "plt.grid()\n",
    "plt.tight_layout()\n",
    "plt.legend(['min', 'max', 'avg'],\n",
    "           bbox_to_anchor=(1.15, 0.6))\n",
    "fig.savefig('Jun Precip by Station.png',bbox_inches='tight')\n",
    "plt.show()"
   ]
  },
  {
   "cell_type": "code",
   "execution_count": 22,
   "metadata": {},
   "outputs": [
    {
     "name": "stderr",
     "output_type": "stream",
     "text": [
      "/opt/anaconda3/envs/PythonData/lib/python3.7/site-packages/ipykernel_launcher.py:9: UserWarning: FixedFormatter should only be used together with FixedLocator\n",
      "  if __name__ == '__main__':\n"
     ]
    },
    {
     "data": {
      "image/png": "[encoded data removed]",
      "text/plain": [
       "<Figure size 432x288 with 1 Axes>"
      ]
     },
     "metadata": {
      "needs_background": "light"
     },
     "output_type": "display_data"
    }
   ],
   "source": [
    "fig, ax = plt.subplots()\n",
    "x = range(len(decStats2))\n",
    "ax.plot(decdf2,marker='o',linestyle='None', markersize = 10.0)\n",
    "for i in (ax.get_xticklabels() + ax.get_yticklabels()):\n",
    "    i.set_fontname('Arial')\n",
    "    i.set_fontsize(13)\n",
    "ax.set_title('December Precipitation by Station')\n",
    "ax.tick_params(axis='x', labelrotation=90 )\n",
    "ax.set_xticklabels(inOahu)\n",
    "plt.grid()\n",
    "plt.tight_layout()\n",
    "plt.legend(['min', 'max', 'avg'],\n",
    "           bbox_to_anchor=(1.0, 0.6))\n",
    "#fig.savefig('Dec Precip by Station.png',bbox_inches='tight')\n",
    "plt.show()"
   ]
  },
  {
   "cell_type": "code",
   "execution_count": null,
   "metadata": {},
   "outputs": [],
   "source": [
    "## D1: Determine the Summary Statistics for June\n",
    "\n",
    "# 1. Import the sqlalchemy extract function.\n",
    "from sqlalchemy import extract\n",
    "\n",
    "# 2. Write a query that filters the Measurement table to retrieve the temperatures for the month of June. \n",
    "# 3. Convert the June temperatures to a list.\n",
    "jtemps = session.query(Measurement.tobs).\\\n",
    "    filter(func.strftime(\"%m\", Measurement.date) == \"06\").all()\n",
    "june = {'June Temps':[i[0] for i in jtemps]}\n",
    "june\n",
    "\n",
    "# 4. Create a DataFrame from the list of temperatures for the month of June. \n",
    "june_temp = pd.DataFrame(june)\n",
    "june_temp\n",
    "\n",
    "# 5. Calculate and print out the summary statistics for the June temperature DataFrame.\n",
    "june_temp.describe()\n",
    "## D2: Determine the Summary Statistics for December\n",
    "# 6. Write a query that filters the Measurement table to retrieve the temperatures for the month of December.\n",
    "# 7. Convert the December temperatures to a list.\n",
    "dtemps = session.query(Measurement.tobs).\\\n",
    "    filter(func.strftime(\"%m\", Measurement.date) == \"12\").all()\n",
    "dec = {'December Temps':[i[0] for i in dtemps]}\n",
    "dec\n",
    "\n",
    "# 8. Create a DataFrame from the list of temperatures for the month of December. \n",
    "dec_temp = pd.DataFrame(dec)\n",
    "dec_temp\n",
    "\n",
    "# 9. Calculate and print out the summary statistics for the Decemeber temperature DataFrame.\n",
    "dec_temp.describe()"
   ]
  }
 ],
 "metadata": {
  "kernelspec": {
   "display_name": "PythonData",
   "language": "python",
   "name": "pythondata"
  },
  "language_info": {
   "codemirror_mode": {
    "name": "ipython",
    "version": 3
   },
   "file_extension": ".py",
   "mimetype": "text/x-python",
   "name": "python",
   "nbconvert_exporter": "python",
   "pygments_lexer": "ipython3",
   "version": "3.7.10"
  }
 },
 "nbformat": 4,
 "nbformat_minor": 2
}
